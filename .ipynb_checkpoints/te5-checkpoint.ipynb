{
 "cells": [
  {
   "cell_type": "code",
   "execution_count": null,
   "metadata": {},
   "outputs": [],
   "source": [
    "# This is the evaluation code to output prediction using our saliency model.\n",
    "#\n",
    "# Author: Sen Jia\n",
    "# Date: 09 / Mar / 2020\n",
    "#\n",
    "import matplotlib.pyplot as plt\n",
    "import os\n",
    "import numpy as np\n",
    "import torch\n",
    "import torchvision.transforms as transforms\n",
    "from PIL import Image\n",
    "import cv2\n",
    "import resnet\n",
    "\n",
    "def normalize(img):\n",
    "    img -= img.min()\n",
    "    img /= img.max()\n",
    "    return img\n",
    "def gray(img_gray):\n",
    "    # img = cv2.imread(img_gray)\n",
    "    print(img_gray.shape)\n",
    "    # img_gray = cv2.resize(img_gray, dsize=(480, 640), dst=None, fx=2, fy=2, interpolation=cv2.INTER_NEAREST)\n",
    "    # img_gray = cv2.cvtColor(img_gray,cv2.COLOR_BGR2GRAY)\n",
    "    plt.imshow(img_gray)\n",
    "    #img_gray.shape：获取img_gray这张灰度图片的长*宽\n",
    "    hight,width = img_gray.shape\n",
    "\n",
    "    #循环打印img_gray中的每一个灰度值的坐标\n",
    "    for i in range(hight):\n",
    "        for j in range(width):\n",
    "            #img_gray的dtype是uint8,所有灰度值取值范围为0-255，\n",
    "            #将大于128的变成1，小于128的变成0，就得到二值图的灰度值\n",
    "            if img_gray[i,j] <= 20:\n",
    "                img_gray[i,j] = 0\n",
    "            else:\n",
    "                img_gray[i,j] = 1\n",
    "    return img_gray\n",
    "def eval(model_path,img_path):\n",
    "    preprocess = transforms.Compose([\n",
    "        transforms.Resize(((224,224))),\n",
    "\ttransforms.ToTensor(),\n",
    "    ])\n",
    "\n",
    "    model = resnet.resnet50(model_path)\n",
    "    model.eval()\n",
    "\n",
    "    pil_img = Image.open(img_path).convert('RGB')\n",
    "    pil_img1 = Image.open(img_path)\n",
    "    processed = preprocess(pil_img).unsqueeze(0)\n",
    "\n",
    "    with torch.no_grad():\n",
    "       \n",
    "        pred = model(processed)\n",
    "        pred = pred.squeeze()\n",
    "        pred = normalize(pred)\n",
    "        pred = pred.detach().cpu()\n",
    "        pred = pred*255\n",
    "    \n",
    "    # pred = transforms.ToPILImage(pred)   \n",
    "    # pred.show()\n",
    "    img_gray = gray(np.array(pred))\n",
    "    # print(img_gray[150,400])\n",
    "    pil_img1 = pil_img1.resize((224,224))\n",
    "    image_np = np.array(pil_img1)/255.0\n",
    "    fig, ax = plt.subplots(1, 2)\n",
    "    \n",
    "    # ax[0].set_title(\"Input Image\")\n",
    "    # ax[1].imshow(image_np)\n",
    "    # ax[1].set_title(\"Prediction\")\n",
    "    # # plt.imsave(r'D:\\data\\animals_catalogy\\data\\118.jpg',pred)\n",
    "    print(image_np)\n",
    "    image = np.dstack((img_gray*image_np[:,:,0], img_gray*image_np[:,:,1], img_gray*image_np[:,:,2]))\n",
    "    ax[0].imshow(img_gray,cmap='gray')\n",
    "    ax[1].imshow(image,cmap='gray')\n",
    "    # plt.imsave(fname=r'D:\\data\\animals_catalogy\\data\\binary11.jpg',arr=image)\n",
    "\n",
    "    # plt.show()"
   ]
  },
  {
   "cell_type": "code",
   "execution_count": null,
   "metadata": {},
   "outputs": [],
   "source": [
    "eval(model_path=r'D:\\data\\model\\model.pth.tar',img_path=r'D:\\data\\animals_catalogy\\data\\4.jpg')\n"
   ]
  },
  {
   "cell_type": "code",
   "execution_count": 4,
   "metadata": {},
   "outputs": [
    {
     "data": {
      "text/plain": [
       "torch.Size([3, 724, 590])"
      ]
     },
     "execution_count": 4,
     "metadata": {},
     "output_type": "execute_result"
    }
   ],
   "source": [
    "import torchvision.transforms as transforms \n",
    "from PIL import Image \n",
    "import numpy as np \n",
    "path = r'D:\\data\\animals_catalogy\\data\\4.jpg'\n",
    "\n",
    "\n",
    "a = transforms.ToTensor()(np.array(Image.open(path))/255.0)\n",
    "a.shape"
   ]
  }
 ],
 "metadata": {
  "kernelspec": {
   "display_name": "pytorch",
   "language": "python",
   "name": "python3"
  },
  "language_info": {
   "codemirror_mode": {
    "name": "ipython",
    "version": 3
   },
   "file_extension": ".py",
   "mimetype": "text/x-python",
   "name": "python",
   "nbconvert_exporter": "python",
   "pygments_lexer": "ipython3",
   "version": "3.8.3"
  },
  "orig_nbformat": 4
 },
 "nbformat": 4,
 "nbformat_minor": 2
}
