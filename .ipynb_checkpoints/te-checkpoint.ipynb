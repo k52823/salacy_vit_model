{
 "cells": [
  {
   "cell_type": "code",
   "execution_count": 4,
   "metadata": {},
   "outputs": [],
   "source": [
    "path = r'D:\\data\\animals'\n",
    "import os \n",
    "import numpy as np \n",
    "from PIL import Image\n",
    "import eval_\n",
    "def get_imgs_labs_arr(path):\n",
    "    idx = {}\n",
    "    lab = list(os.walk(path))[0][1]\n",
    "    for i in list(enumerate(lab)):\n",
    "        idx[i[1]] = i[0]\n",
    "    flag = False\n",
    "    labs , imgs = [],[]\n",
    "    for files in os.walk(path):\n",
    "        try :\n",
    "            j = None\n",
    "            if not flag :\n",
    "                flag = True \n",
    "                continue\n",
    "            else:\n",
    "                for j in files[2]:\n",
    "                    labs.append(idx[files[0].split('\\\\')[-1]])\n",
    "                    imgs.append(os.path.join(files[0],j))\n",
    "                    # print(files[0].split('\\\\')[-1],os.path.join(files[0],j))\n",
    "        except :\n",
    "            print(j)\n",
    "    return labs,imgs,idx\n",
    "from torch.utils.data import Dataset\n",
    "class Mydata(Dataset):\n",
    "    def __init__(self,path,transform=None) -> None:\n",
    "        super().__init__()\n",
    "        labs,imgs,idx = get_imgs_labs_arr(path=path)\n",
    "        self.labs = labs\n",
    "        self.imgs = imgs\n",
    "        self.class_to_idx = idx \n",
    "        self.transofrm = transform\n",
    "    def __getitem__(self, index) :\n",
    "        img,lab = self.imgs[index],self.labs[index]\n",
    "        img1 = eval_.eval(r'D:\\data\\model\\model.pth.tar',img)\n",
    "        return img1 ,lab\n",
    "        return img,lab\n",
    "    def __len__(self):\n",
    "        return len(self.labs)"
   ]
  },
  {
   "cell_type": "code",
   "execution_count": 5,
   "metadata": {},
   "outputs": [
    {
     "data": {
      "text/plain": [
       "{'Abyssinian': 0,\n",
       " 'american_bulldog': 1,\n",
       " 'american_pit_bull_terrier': 2,\n",
       " 'basset_hound': 3,\n",
       " 'beagle': 4,\n",
       " 'Bengal': 5,\n",
       " 'Birman': 6,\n",
       " 'Bombay': 7,\n",
       " 'boxer': 8,\n",
       " 'British_Shorthair': 9,\n",
       " 'chihuahua': 10,\n",
       " 'Egyptian_Mau': 11,\n",
       " 'english_cocker_spaniel': 12,\n",
       " 'english_setter': 13,\n",
       " 'german_shorthaired': 14,\n",
       " 'great_pyrenees': 15,\n",
       " 'havanese': 16,\n",
       " 'japanese_chin': 17,\n",
       " 'keeshond': 18,\n",
       " 'leonberger': 19,\n",
       " 'Maine_Coon': 20,\n",
       " 'miniature_pinscher': 21,\n",
       " 'newfoundland': 22,\n",
       " 'Persian': 23,\n",
       " 'pomeranian': 24,\n",
       " 'pug': 25,\n",
       " 'Ragdoll': 26,\n",
       " 'Russian_Blue': 27,\n",
       " 'saint_bernard': 28,\n",
       " 'samoyed': 29,\n",
       " 'scottish_terrier': 30,\n",
       " 'shiba_inu': 31,\n",
       " 'Siamese': 32,\n",
       " 'Sphynx': 33,\n",
       " 'staffordshire_bull_terrier': 34,\n",
       " 'wheaten_terrier': 35,\n",
       " 'yorkshire_terrier': 36}"
      ]
     },
     "execution_count": 5,
     "metadata": {},
     "output_type": "execute_result"
    }
   ],
   "source": [
    "mydaya = Mydata(path)\n",
    "# mydaya.imgs\n",
    "# from torch.utils.data import DataLoader\n",
    "# data = DataLoader(mydaya,batch_size=1,shuffle=True)\n",
    "# next(iter(data))\n",
    "mydaya.class_to_idx"
   ]
  },
  {
   "cell_type": "code",
   "execution_count": null,
   "metadata": {},
   "outputs": [],
   "source": [
    "from torch.utils.data import DataLoader\n",
    "data = DataLoader(mydaya,batch_size=8,shuffle=True)\n",
    "next(iter(data))"
   ]
  },
  {
   "cell_type": "markdown",
   "metadata": {},
   "source": []
  },
  {
   "cell_type": "code",
   "execution_count": null,
   "metadata": {},
   "outputs": [],
   "source": [
    "from torchvision.datasets import ImageFolder\n",
    "path = r'D:\\data\\animals'\n",
    "data = ImageFolder(root=path,transform=None)\n",
    "data.class_to_idx"
   ]
  },
  {
   "cell_type": "code",
   "execution_count": null,
   "metadata": {},
   "outputs": [],
   "source": [
    "import os\n",
    "cls = {}\n",
    "path = r'D:\\data\\FIXATIONMAPS_fillers'\n",
    "lab = list(os.walk(path))[0][1]\n",
    "for i in list(enumerate(lab)):\n",
    "    cls[i[0]] = i[1]\n",
    "cls"
   ]
  },
  {
   "cell_type": "code",
   "execution_count": 2,
   "metadata": {},
   "outputs": [],
   "source": [
    "import torchvision\n",
    "import torch\n",
    "\n",
    "model = torchvision.models.vit_b_16()\n",
    "model.load_state_dict()"
   ]
  }
 ],
 "metadata": {
  "kernelspec": {
   "display_name": "Python 3 (ipykernel)",
   "language": "python",
   "name": "python3"
  },
  "language_info": {
   "codemirror_mode": {
    "name": "ipython",
    "version": 3
   },
   "file_extension": ".py",
   "mimetype": "text/x-python",
   "name": "python",
   "nbconvert_exporter": "python",
   "pygments_lexer": "ipython3",
   "version": "3.11.5"
  }
 },
 "nbformat": 4,
 "nbformat_minor": 2
}
